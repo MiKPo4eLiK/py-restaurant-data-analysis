{
 "cells": [
  {
   "cell_type": "code",
   "execution_count": null,
   "metadata": {
    "collapsed": true,
    "pycharm": {
     "name": "#%%\n"
    }
   },
   "outputs": [],
   "source": [
    "import pandas as pd\n",
    "import sqlite3"
   ]
  },
  {
   "cell_type": "markdown",
   "source": [
    "# Task 0\n",
    "Data extraction: get the data from 3 tables & combine it into single `.csv` file.\n",
    "After that read this file using pandas to create Dataframe.\n",
    "So it will be all joined data in 1 dataframe. Quick check - should be 74818 rows in it."
   ],
   "metadata": {
    "collapsed": false,
    "pycharm": {
     "name": "#%% md\n"
    }
   }
  },
  {
   "cell_type": "code",
   "execution_count": null,
   "outputs": [],
   "source": [
    "db_path = \"db.sqlite3\"\n",
    "\n",
    "try:\n",
    "    conn = sqlite3.connect(db_path)\n",
    "\n",
    "    query = \"\"\"\n",
    "        SELECT\n",
    "            oi.order_id AS \"Order ID\",\n",
    "            o.order_datetime AS \"Order Datetime\",\n",
    "            o.order_price AS \"Order Price\",\n",
    "            oi.product_id AS \"Product ID\",\n",
    "            p.product_name AS \"Product Name\",\n",
    "            p.price AS \"Product Price\",\n",
    "            oi.quantity AS \"Quantity\"\n",
    "        FROM order_items AS oi\n",
    "        JOIN orders AS o ON oi.order_id = o.id\n",
    "        JOIN products AS p ON oi.product_id = p.id\n",
    "    \"\"\"\n",
    "\n",
    "    df = pd.read_sql_query(query, conn)\n",
    "\n",
    "    print(f\"Number of rows in final dataframe: {len(df)}\")\n",
    "    print(\"First 5 rows of merged dataframe:\")\n",
    "    print(df.head())\n",
    "\n",
    "except sqlite3.Error as e:\n",
    "    print(f\"Database error: {e}\")\n",
    "\n",
    "finally:\n",
    "    if 'conn' in locals():\n",
    "        conn.close()\n"
   ],
   "metadata": {
    "collapsed": false,
    "pycharm": {
     "name": "#%%\n"
    }
   }
  },
  {
   "cell_type": "markdown",
   "source": [
    "# Task 1\n",
    "Get Top 10 most popular products in restaurant sold by Quantity.\n",
    "Count how many times each product was sold and create a pie chart with percentage of popularity (by quantity) for top 10 of them.\n",
    "\n",
    "Example:\n",
    "\n",
    "![pie chart](../demo/pie.png)"
   ],
   "metadata": {
    "collapsed": false,
    "pycharm": {
     "name": "#%% md\n"
    }
   }
  },
  {
   "cell_type": "code",
   "execution_count": null,
   "outputs": [],
   "source": [
    "quantity_counts = df.groupby('Product Name')['Quantity'].sum().sort_values(ascending=False)\n",
    "top_10_quantity = quantity_counts.head(10)\n",
    "\n",
    "total_quantity = quantity_counts.sum()\n",
    "others_quantity_count = total_quantity - top_10_quantity.sum()\n",
    "\n",
    "pie_data_quantity = pd.concat([\n",
    "    top_10_quantity.rename(\"Count\"),\n",
    "    pd.Series(others_quantity_count, index=['OTHERS']).rename(\"Count\")\n",
    "], axis=0).to_frame()\n",
    "\n",
    "pie_data_quantity['Percentage (%)'] = (pie_data_quantity['Count'] / total_quantity * 100).round(2)\n",
    "pie_data_quantity['Count'] = pie_data_quantity['Count'].astype(int)\n",
    "\n",
    "print(\"### Task 1: Top 10 most popular products (by QUANTITY) ###\")\n",
    "print(pie_data_quantity, \"\\n\")\n"
   ],
   "metadata": {
    "collapsed": false,
    "pycharm": {
     "name": "#%%\n"
    }
   }
  },
  {
   "cell_type": "markdown",
   "source": [
    "# Task 2\n",
    "Calculate `Item Price` (Product Price * Quantity) for each Order Item in dataframe.\n",
    "And Make the same Top 10 pie chart, but this time by `Item Price`. So this chart should describe not the most popular products by quantity, but which products (top 10) make the most money for restaurant. It should be also with percentage."
   ],
   "metadata": {
    "collapsed": false,
    "pycharm": {
     "name": "#%% md\n"
    }
   }
  },
  {
   "cell_type": "code",
   "execution_count": null,
   "outputs": [],
   "source": [
    "df['Item Price'] = df['Product Price'] * df['Quantity']\n",
    "\n",
    "revenue_by_product = df.groupby('Product Name')['Item Price'].sum().sort_values(ascending=False)\n",
    "top_10_revenue = revenue_by_product.head(10)\n",
    "\n",
    "total_revenue = revenue_by_product.sum()\n",
    "others_revenue_count = total_revenue - top_10_revenue.sum()\n",
    "\n",
    "pie_data_revenue = pd.concat([\n",
    "    top_10_revenue.rename(\"Revenue\"),\n",
    "    pd.Series(others_revenue_count, index=['OTHERS']).rename(\"Revenue\")\n",
    "], axis=0).to_frame()\n",
    "\n",
    "pie_data_revenue['Percentage (%)'] = (pie_data_revenue['Revenue'] / total_revenue * 100).round(2)\n",
    "pie_data_revenue['Revenue'] = pie_data_revenue['Revenue'].round(2)\n",
    "\n",
    "print(\"### Task 2: Top 10 Most Profitable Products (by REVENUE) ###\")\n",
    "print(pie_data_revenue, \"\\n\")\n"
   ],
   "metadata": {
    "collapsed": false,
    "pycharm": {
     "name": "#%%\n",
     "is_executing": true
    }
   }
  },
  {
   "cell_type": "markdown",
   "source": [
    "# Task 3\n",
    "Calculate `Order Hour` based on `Order Datetime`, which will tell about the specific our the order was created (from 0 to 23). Using `Order Hour` create a bar chart, which will tell the total restaurant income based on the hour order was created. So on x-axis - it will be values from 0 to 23 (hours), on y-axis - it will be the total sum of order prices, which were sold on that hour.\n",
    "\n",
    "Example:\n",
    "\n",
    "![bar chart](../demo/bar.png)"
   ],
   "metadata": {
    "collapsed": false,
    "pycharm": {
     "name": "#%% md\n"
    }
   }
  },
  {
   "cell_type": "code",
   "execution_count": null,
   "outputs": [],
   "source": [
    "df['Order Datetime'] = pd.to_datetime(df['Order Datetime'])\n",
    "\n",
    "unique_orders = df[['Order ID', 'Order Datetime', 'Order Price']].drop_duplicates()\n",
    "\n",
    "unique_orders['Order Hour'] = unique_orders['Order Datetime'].dt.hour\n",
    "\n",
    "hourly_income_total = unique_orders.groupby('Order Hour')['Order Price'].sum().round(2)\n",
    "\n",
    "full_hours = pd.Series(0.0, index=range(24))\n",
    "hourly_income_total = hourly_income_total.combine_first(full_hours).sort_index().rename('Total Income')\n",
    "\n",
    "print(\"### Task 3: Total Hourly Income (Order Hour 0-23) ###\")\n",
    "print(hourly_income_total.to_frame(), \"\\n\")\n",
    "\n",
    "def create_bar_chart_ascii(series, title) -> str:\n",
    "    max_val = series.max()\n",
    "    output = [f\"--- {title} ---\"]\n",
    "    for index, value in series.items():\n",
    "        bar_length = int((value / max_val) * 40) if max_val != 0 else 0\n",
    "        bar = \"#\" * bar_length\n",
    "        output.append(f\"{str(index):<10}: | {bar:<40} {value:,.2f}\")\n",
    "    return \"\\n\".join(output)\n",
    "\n",
    "print(create_bar_chart_ascii(hourly_income_total, \"Hourly Income\"), \"\\n\")\n"
   ],
   "metadata": {
    "collapsed": false,
    "pycharm": {
     "name": "#%%\n"
    }
   }
  },
  {
   "cell_type": "markdown",
   "source": [
    "# Task 4\n",
    "Make similar bar chart, but right now with `Order Day Of The Week` (from Monday to Sunday), and also analyze total restaurant income by each day of the week."
   ],
   "metadata": {
    "collapsed": false,
    "pycharm": {
     "name": "#%% md\n"
    }
   }
  },
  {
   "cell_type": "code",
   "execution_count": null,
   "outputs": [],
   "source": [
    "day_order = ['Monday', 'Tuesday', 'Wednesday', 'Thursday', 'Friday', 'Saturday', 'Sunday']\n",
    "\n",
    "unique_orders = df[['Order ID', 'Order Datetime', 'Order Price']].drop_duplicates()\n",
    "\n",
    "unique_orders['Order Day Of The Week'] = unique_orders['Order Datetime'].dt.day_name().astype(\n",
    "    pd.CategoricalDtype(categories=day_order, ordered=True)\n",
    ")\n",
    "\n",
    "daily_income_total = (\n",
    "    unique_orders.groupby('Order Day Of The Week')['Order Price']\n",
    "    .sum()\n",
    "    .round(2)\n",
    "    .sort_index()\n",
    "    .rename('Total Income')\n",
    ")\n",
    "\n",
    "print(\"### Task 4: Total Income by Day of the Week ###\")\n",
    "print(daily_income_total.to_frame(), \"\\n\")\n",
    "\n",
    "print(create_bar_chart_ascii(daily_income_total, \"Income by Day of the Week\"))\n"
   ],
   "metadata": {
    "collapsed": false,
    "pycharm": {
     "name": "#%%\n"
    }
   }
  }
 ],
 "metadata": {
  "kernelspec": {
   "display_name": "Python 3",
   "language": "python",
   "name": "python3"
  },
  "language_info": {
   "codemirror_mode": {
    "name": "ipython",
    "version": 2
   },
   "file_extension": ".py",
   "mimetype": "text/x-python",
   "name": "python",
   "nbconvert_exporter": "python",
   "pygments_lexer": "ipython2",
   "version": "2.7.6"
  }
 },
 "nbformat": 4,
 "nbformat_minor": 0
}
