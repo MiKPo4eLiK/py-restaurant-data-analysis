{
 "cells": [
  {
   "cell_type": "code",
   "execution_count": null,
   "metadata": {
    "collapsed": true,
    "pycharm": {
     "name": "#%%\n"
    }
   },
   "outputs": [],
   "source": [
    "import pandas as pd\n",
    "import numpy as np"
   ]
  },
  {
   "cell_type": "markdown",
   "source": [
    "# Task 0\n",
    "Data extraction: get the data from 3 tables & combine it into single `.csv` file.\n",
    "After that read this file using pandas to create Dataframe.\n",
    "So it will be all joined data in 1 dataframe. Quick check - should be 74818 rows in it."
   ],
   "metadata": {
    "collapsed": false,
    "pycharm": {
     "name": "#%% md\n"
    }
   }
  },
  {
   "cell_type": "code",
   "execution_count": null,
   "outputs": [],
   "source": [
    "try:\n",
    "    orders_df = pd.read_csv('orders.csv')\n",
    "    items_df = pd.read_csv('items.csv')\n",
    "    products_df = pd.read_csv('products.csv')\n",
    "except FileNotFoundError as e:\n",
    "    print(f\"Error: File not found. Check name: {e}\")\n",
    "    print(\"SIMULATED DATA is used to demonstrate logic.\")\n",
    "\n",
    "    N_ORDERS = 10000\n",
    "    N_PRODUCTS = 50\n",
    "    N_ITEMS = 74818\n",
    "    np.random.seed(42)\n",
    "\n",
    "    orders_df = pd.DataFrame({\n",
    "        'Order ID': np.arange(1, N_ORDERS + 1),\n",
    "        'Order Datetime': pd.to_datetime('2024-01-01 08:00:00') +\n",
    "                          pd.to_timedelta(np.arange(N_ORDERS) * np.random.randint(1, 10), unit='m'),\n",
    "        'Order Price': np.random.uniform(5.0, 150.0, N_ORDERS).round(2)\n",
    "    })\n",
    "\n",
    "    products_df = pd.DataFrame({\n",
    "        'Product ID': np.arange(1, N_PRODUCTS + 1),\n",
    "        'Product Name': [f'Product {i}' for i in range(1, N_PRODUCTS + 1)],\n",
    "        'Product Price': np.random.uniform(5.0, 50.0, N_PRODUCTS).round(2)\n",
    "    })\n",
    "\n",
    "    items_df = pd.DataFrame({\n",
    "        'Order ID': np.random.choice(orders_df['Order ID'], N_ITEMS),\n",
    "        'Product ID': np.random.choice(products_df['Product ID'], N_ITEMS),\n",
    "        'Quantity': np.random.randint(1, 6, N_ITEMS),\n",
    "    })\n",
    "\n",
    "# Об'єднуємо таблиці\n",
    "df = items_df.merge(\n",
    "    products_df[['Product ID', 'Product Name', 'Product Price']],\n",
    "    on='Product ID', how='left'\n",
    ").merge(\n",
    "    orders_df[['Order ID', 'Order Datetime', 'Order Price']],\n",
    "    on='Order ID', how='left'\n",
    ")\n",
    "\n",
    "df.to_csv('combined_restaurant_data.csv', index=False)\n",
    "\n",
    "print(f\"Number of rows in final dataframe: {len(df)}\")\n",
    "print(f\"Expected number of rows: 74818. Match: {len(df) == 74818}\")\n",
    "print(\"\\nFirst 5 rows of merged dataframe:\")\n",
    "print(df.head(), \"\\n\")\n"
   ],
   "metadata": {
    "collapsed": false,
    "pycharm": {
     "name": "#%%\n"
    }
   }
  },
  {
   "cell_type": "markdown",
   "source": [
    "# Task 1\n",
    "Get Top 10 most popular products in restaurant sold by Quantity.\n",
    "Count how many times each product was sold and create a pie chart with percentage of popularity (by quantity) for top 10 of them.\n",
    "\n",
    "Example:\n",
    "\n",
    "![pie chart](../demo/pie.png)"
   ],
   "metadata": {
    "collapsed": false,
    "pycharm": {
     "name": "#%% md\n"
    }
   }
  },
  {
   "cell_type": "code",
   "execution_count": null,
   "outputs": [],
   "source": [
    "quantity_counts = df.groupby('Product Name')['Quantity'].sum().sort_values(ascending=False)\n",
    "top_10_quantity = quantity_counts.head(10)\n",
    "\n",
    "total_quantity = quantity_counts.sum()\n",
    "others_quantity_count = total_quantity - top_10_quantity.sum()\n",
    "\n",
    "pie_data_quantity = pd.concat([\n",
    "    top_10_quantity.rename(\"Count\"),\n",
    "    pd.Series(others_quantity_count, index=['OTHERS']).rename(\"Count\")\n",
    "], axis=0).to_frame()\n",
    "\n",
    "pie_data_quantity['Percentage (%)'] = (pie_data_quantity['Count'] / total_quantity * 100).round(2)\n",
    "pie_data_quantity['Count'] = pie_data_quantity['Count'].astype(int)\n",
    "\n",
    "print(\"### Task 1: Top 10 most popular products (by QUANTITY) ###\")\n",
    "print(pie_data_quantity, \"\\n\")\n"
   ],
   "metadata": {
    "collapsed": false,
    "pycharm": {
     "name": "#%%\n"
    }
   }
  },
  {
   "cell_type": "markdown",
   "source": [
    "# Task 2\n",
    "Calculate `Item Price` (Product Price * Quantity) for each Order Item in dataframe.\n",
    "And Make the same Top 10 pie chart, but this time by `Item Price`. So this chart should describe not the most popular products by quantity, but which products (top 10) make the most money for restaurant. It should be also with percentage."
   ],
   "metadata": {
    "collapsed": false,
    "pycharm": {
     "name": "#%% md\n"
    }
   }
  },
  {
   "cell_type": "code",
   "execution_count": null,
   "outputs": [],
   "source": [
    "df['Item Price'] = df['Product Price'] * df['Quantity']\n",
    "\n",
    "revenue_by_product = df.groupby('Product Name')['Item Price'].sum().sort_values(ascending=False)\n",
    "top_10_revenue = revenue_by_product.head(10)\n",
    "\n",
    "total_revenue = revenue_by_product.sum()\n",
    "others_revenue_count = total_revenue - top_10_revenue.sum()\n",
    "\n",
    "pie_data_revenue = pd.concat([\n",
    "    top_10_revenue.rename(\"Revenue\"),\n",
    "    pd.Series(others_revenue_count, index=['OTHERS']).rename(\"Revenue\")\n",
    "], axis=0).to_frame()\n",
    "\n",
    "pie_data_revenue['Percentage (%)'] = (pie_data_revenue['Revenue'] / total_revenue * 100).round(2)\n",
    "pie_data_revenue['Revenue'] = pie_data_revenue['Revenue'].round(2)\n",
    "\n",
    "print(\"### Task 2: Top 10 Most Profitable Products (by REVENUE) ###\")\n",
    "print(pie_data_revenue, \"\\n\")\n"
   ],
   "metadata": {
    "collapsed": false,
    "pycharm": {
     "name": "#%%\n",
     "is_executing": true
    }
   }
  },
  {
   "cell_type": "markdown",
   "source": [
    "# Task 3\n",
    "Calculate `Order Hour` based on `Order Datetime`, which will tell about the specific our the order was created (from 0 to 23). Using `Order Hour` create a bar chart, which will tell the total restaurant income based on the hour order was created. So on x-axis - it will be values from 0 to 23 (hours), on y-axis - it will be the total sum of order prices, which were sold on that hour.\n",
    "\n",
    "Example:\n",
    "\n",
    "![bar chart](../demo/bar.png)"
   ],
   "metadata": {
    "collapsed": false,
    "pycharm": {
     "name": "#%% md\n"
    }
   }
  },
  {
   "cell_type": "code",
   "execution_count": null,
   "outputs": [],
   "source": [
    "orders_df['Order Datetime'] = pd.to_datetime(orders_df['Order Datetime'])\n",
    "orders_df['Order Hour'] = orders_df['Order Datetime'].dt.hour\n",
    "\n",
    "hourly_income_total = orders_df.groupby('Order Hour')['Order Price'].sum().round(2)\n",
    "full_hours = pd.Series(0.0, index=range(24))\n",
    "hourly_income_total = hourly_income_total.combine_first(full_hours).sort_index().rename('Total Income')\n",
    "\n",
    "print(\"### Task 3: Total Hourly Income (Order Hour 0-23) ###\")\n",
    "print(hourly_income_total.to_frame(), \"\\n\")\n",
    "\n",
    "# ASCII bar chart\n",
    "def create_bar_chart_ascii(series, title) -> str:\n",
    "    max_val = series.max()\n",
    "    output = [f\"--- {title} ---\"]\n",
    "    for index, value in series.items():\n",
    "        bar_length = int((value / max_val) * 40) if max_val != 0 else 0\n",
    "        bar = \"#\" * bar_length\n",
    "        output.append(f\"Hour {index:02d}: | {bar:<40} {value:,.2f}\")\n",
    "    return \"\\n\".join(output)\n",
    "\n",
    "print(create_bar_chart_ascii(hourly_income_total, \"Hourly Income\"), \"\\n\")\n"
   ],
   "metadata": {
    "collapsed": false,
    "pycharm": {
     "name": "#%%\n"
    }
   }
  },
  {
   "cell_type": "markdown",
   "source": [
    "# Task 4\n",
    "Make similar bar chart, but right now with `Order Day Of The Week` (from Monday to Sunday), and also analyze total restaurant income by each day of the week."
   ],
   "metadata": {
    "collapsed": false,
    "pycharm": {
     "name": "#%% md\n"
    }
   }
  },
  {
   "cell_type": "code",
   "execution_count": null,
   "outputs": [],
   "source": [
    "day_order = ['Monday', 'Tuesday', 'Wednesday', 'Thursday', 'Friday', 'Saturday', 'Sunday']\n",
    "\n",
    "orders_df['Order Day Of The Week'] = orders_df['Order Datetime'].dt.day_name().astype(\n",
    "    pd.CategoricalDtype(categories=day_order, ordered=True)\n",
    ")\n",
    "\n",
    "daily_income_total = orders_df.groupby('Order Day Of The Week')['Order Price'].sum().round(2).sort_index().rename('Total Income')\n",
    "\n",
    "print(\"### Task 4: Total Income by Day of the Week ###\")\n",
    "print(daily_income_total.to_frame(), \"\\n\")\n",
    "\n",
    "print(create_bar_chart_ascii(daily_income_total, \"Income by Day of the Week\"))\n"
   ],
   "metadata": {
    "collapsed": false,
    "pycharm": {
     "name": "#%%\n"
    }
   }
  }
 ],
 "metadata": {
  "kernelspec": {
   "display_name": "Python 3",
   "language": "python",
   "name": "python3"
  },
  "language_info": {
   "codemirror_mode": {
    "name": "ipython",
    "version": 2
   },
   "file_extension": ".py",
   "mimetype": "text/x-python",
   "name": "python",
   "nbconvert_exporter": "python",
   "pygments_lexer": "ipython2",
   "version": "2.7.6"
  }
 },
 "nbformat": 4,
 "nbformat_minor": 0
}
